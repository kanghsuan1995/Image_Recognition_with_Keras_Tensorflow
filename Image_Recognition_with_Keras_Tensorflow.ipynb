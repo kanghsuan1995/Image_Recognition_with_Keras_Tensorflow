{
 "cells": [
  {
   "cell_type": "code",
   "execution_count": 1,
   "metadata": {},
   "outputs": [
    {
     "name": "stderr",
     "output_type": "stream",
     "text": [
      "Using TensorFlow backend.\n"
     ]
    }
   ],
   "source": [
    "from keras.models import Sequential\n",
    "from keras.layers import Dense\n",
    "from keras.layers import Dropout\n",
    "from keras.layers import Activation\n",
    "from keras.layers import Flatten, Conv2D, MaxPooling2D\n",
    "from keras.utils import np_utils"
   ]
  },
  {
   "cell_type": "code",
   "execution_count": 2,
   "metadata": {},
   "outputs": [
    {
     "name": "stdout",
     "output_type": "stream",
     "text": [
      "Requirement already satisfied: keras_sequential_ascii in /home/kanghsuan1995/anaconda3/lib/python3.6/site-packages (0.1.1)\n",
      "Requirement already satisfied: keras in /home/kanghsuan1995/anaconda3/lib/python3.6/site-packages (from keras_sequential_ascii) (2.2.4)\n",
      "Requirement already satisfied: scipy>=0.14 in /home/kanghsuan1995/anaconda3/lib/python3.6/site-packages (from keras->keras_sequential_ascii) (1.2.1)\n",
      "Requirement already satisfied: numpy>=1.9.1 in /home/kanghsuan1995/anaconda3/lib/python3.6/site-packages (from keras->keras_sequential_ascii) (1.16.2)\n",
      "Requirement already satisfied: h5py in /home/kanghsuan1995/anaconda3/lib/python3.6/site-packages (from keras->keras_sequential_ascii) (2.9.0)\n",
      "Requirement already satisfied: keras-applications>=1.0.6 in /home/kanghsuan1995/anaconda3/lib/python3.6/site-packages (from keras->keras_sequential_ascii) (1.0.7)\n",
      "Requirement already satisfied: pyyaml in /home/kanghsuan1995/anaconda3/lib/python3.6/site-packages (from keras->keras_sequential_ascii) (5.1)\n",
      "Requirement already satisfied: six>=1.9.0 in /home/kanghsuan1995/anaconda3/lib/python3.6/site-packages (from keras->keras_sequential_ascii) (1.12.0)\n",
      "Requirement already satisfied: keras-preprocessing>=1.0.5 in /home/kanghsuan1995/anaconda3/lib/python3.6/site-packages (from keras->keras_sequential_ascii) (1.0.9)\n",
      "Note: you may need to restart the kernel to use updated packages.\n"
     ]
    }
   ],
   "source": [
    "pip install keras_sequential_ascii"
   ]
  },
  {
   "cell_type": "code",
   "execution_count": 3,
   "metadata": {},
   "outputs": [],
   "source": [
    "import numpy as np\n",
    "import pandas as pd"
   ]
  },
  {
   "cell_type": "code",
   "execution_count": 4,
   "metadata": {},
   "outputs": [],
   "source": [
    "from keras.datasets import cifar10"
   ]
  },
  {
   "cell_type": "markdown",
   "metadata": {},
   "source": [
    "## CIFAR 10 CNN"
   ]
  },
  {
   "cell_type": "code",
   "execution_count": 5,
   "metadata": {},
   "outputs": [],
   "source": [
    "#CNN model 1"
   ]
  },
  {
   "cell_type": "code",
   "execution_count": 6,
   "metadata": {},
   "outputs": [],
   "source": [
    "(xc_train,yc_train),(xc_test,yc_test)=cifar10.load_data()"
   ]
  },
  {
   "cell_type": "code",
   "execution_count": 7,
   "metadata": {},
   "outputs": [],
   "source": [
    "xc_train=xc_train.astype('float32')/255\n",
    "xc_test=xc_test.astype('float32')/255\n",
    "yc_train=np_utils.to_categorical(yc_train)\n",
    "yc_test=np_utils.to_categorical(yc_test)"
   ]
  },
  {
   "cell_type": "code",
   "execution_count": 8,
   "metadata": {},
   "outputs": [
    {
     "name": "stdout",
     "output_type": "stream",
     "text": [
      "WARNING:tensorflow:From /home/kanghsuan1995/anaconda3/lib/python3.6/site-packages/tensorflow/python/framework/op_def_library.py:263: colocate_with (from tensorflow.python.framework.ops) is deprecated and will be removed in a future version.\n",
      "Instructions for updating:\n",
      "Colocations handled automatically by placer.\n"
     ]
    }
   ],
   "source": [
    "model=Sequential()\n",
    "model.add(Conv2D(filters=64,kernel_size=(3,3),input_shape=(32,32,3),activation='relu',padding='same'))"
   ]
  },
  {
   "cell_type": "code",
   "execution_count": 9,
   "metadata": {},
   "outputs": [
    {
     "name": "stdout",
     "output_type": "stream",
     "text": [
      "WARNING:tensorflow:From /home/kanghsuan1995/anaconda3/lib/python3.6/site-packages/keras/backend/tensorflow_backend.py:3445: calling dropout (from tensorflow.python.ops.nn_ops) with keep_prob is deprecated and will be removed in a future version.\n",
      "Instructions for updating:\n",
      "Please use `rate` instead of `keep_prob`. Rate should be set to `rate = 1 - keep_prob`.\n"
     ]
    }
   ],
   "source": [
    "model.add(Dropout(0.25))\n",
    "model.add(MaxPooling2D(pool_size=(3,3)))\n",
    "model.add(Flatten())\n",
    "model.add(Dropout(0.25))\n",
    "model.add(Dense(512,activation='relu'))\n",
    "model.add(Dropout(0.25))\n",
    "model.add(Dense(10,activation='sigmoid'))"
   ]
  },
  {
   "cell_type": "code",
   "execution_count": 10,
   "metadata": {},
   "outputs": [
    {
     "name": "stdout",
     "output_type": "stream",
     "text": [
      "           OPERATION           DATA DIMENSIONS   WEIGHTS(N)   WEIGHTS(%)\n",
      "\n",
      "               Input   #####     32   32    3\n",
      "              Conv2D    \\|/  -------------------      1792     0.1%\n",
      "                relu   #####     32   32   64\n",
      "             Dropout    | || -------------------         0     0.0%\n",
      "                       #####     32   32   64\n",
      "        MaxPooling2D   Y max -------------------         0     0.0%\n",
      "                       #####     10   10   64\n",
      "             Flatten   ||||| -------------------         0     0.0%\n",
      "                       #####        6400\n",
      "             Dropout    | || -------------------         0     0.0%\n",
      "                       #####        6400\n",
      "               Dense   XXXXX -------------------   3277312    99.8%\n",
      "                relu   #####         512\n",
      "             Dropout    | || -------------------         0     0.0%\n",
      "                       #####         512\n",
      "               Dense   XXXXX -------------------      5130     0.2%\n",
      "             sigmoid   #####          10\n"
     ]
    }
   ],
   "source": [
    "from keras_sequential_ascii import sequential_model_to_ascii_printout\n",
    "sequential_model_to_ascii_printout(model)"
   ]
  },
  {
   "cell_type": "code",
   "execution_count": 11,
   "metadata": {},
   "outputs": [],
   "source": [
    "model.compile(loss='binary_crossentropy',optimizer='adam',metrics=['accuracy'])"
   ]
  },
  {
   "cell_type": "code",
   "execution_count": 12,
   "metadata": {},
   "outputs": [
    {
     "name": "stdout",
     "output_type": "stream",
     "text": [
      "WARNING:tensorflow:From /home/kanghsuan1995/anaconda3/lib/python3.6/site-packages/tensorflow/python/ops/math_ops.py:3066: to_int32 (from tensorflow.python.ops.math_ops) is deprecated and will be removed in a future version.\n",
      "Instructions for updating:\n",
      "Use tf.cast instead.\n",
      "Train on 50000 samples, validate on 10000 samples\n",
      "Epoch 1/5\n",
      "50000/50000 [==============================] - 133s 3ms/step - loss: 0.2349 - acc: 0.9122 - val_loss: 0.2090 - val_acc: 0.9240\n",
      "Epoch 2/5\n",
      "50000/50000 [==============================] - 118s 2ms/step - loss: 0.1920 - acc: 0.9254 - val_loss: 0.1906 - val_acc: 0.9300\n",
      "Epoch 3/5\n",
      "50000/50000 [==============================] - 115s 2ms/step - loss: 0.1752 - acc: 0.9320 - val_loss: 0.1740 - val_acc: 0.9343\n",
      "Epoch 4/5\n",
      "50000/50000 [==============================] - 119s 2ms/step - loss: 0.1642 - acc: 0.9359 - val_loss: 0.1705 - val_acc: 0.9365\n",
      "Epoch 5/5\n",
      "50000/50000 [==============================] - 122s 2ms/step - loss: 0.1542 - acc: 0.9400 - val_loss: 0.1641 - val_acc: 0.9395\n"
     ]
    },
    {
     "data": {
      "text/plain": [
       "<keras.callbacks.History at 0x7f8de38fda20>"
      ]
     },
     "execution_count": 12,
     "metadata": {},
     "output_type": "execute_result"
    }
   ],
   "source": [
    "model.fit(xc_train,yc_train,batch_size=64,epochs=5,validation_data=(xc_test,yc_test))"
   ]
  },
  {
   "cell_type": "code",
   "execution_count": 13,
   "metadata": {},
   "outputs": [
    {
     "name": "stdout",
     "output_type": "stream",
     "text": [
      "10000/10000 [==============================] - 2s 235us/step\n"
     ]
    }
   ],
   "source": [
    "evaluation= model.evaluate(xc_test,yc_test,verbose=1)"
   ]
  },
  {
   "cell_type": "code",
   "execution_count": 14,
   "metadata": {},
   "outputs": [
    {
     "data": {
      "text/plain": [
       "[0.1640627742290497, 0.9394499995231629]"
      ]
     },
     "execution_count": 14,
     "metadata": {},
     "output_type": "execute_result"
    }
   ],
   "source": [
    "evaluation"
   ]
  },
  {
   "cell_type": "code",
   "execution_count": 15,
   "metadata": {},
   "outputs": [],
   "source": [
    "# CNN Model 2"
   ]
  },
  {
   "cell_type": "code",
   "execution_count": 16,
   "metadata": {},
   "outputs": [],
   "source": [
    "model2=Sequential()\n",
    "model2.add(Conv2D(filters=128,kernel_size=(3,3),input_shape=(32,32,3),activation='relu',padding='same'))\n",
    "model2.add(Dropout(0.25))\n",
    "model2.add(MaxPooling2D(pool_size=(3,3)))\n",
    "model2.add(Flatten())\n",
    "model2.add(Dropout(0.25))\n",
    "model2.add(Dense(10,activation='softmax'))"
   ]
  },
  {
   "cell_type": "code",
   "execution_count": 17,
   "metadata": {},
   "outputs": [
    {
     "name": "stdout",
     "output_type": "stream",
     "text": [
      "           OPERATION           DATA DIMENSIONS   WEIGHTS(N)   WEIGHTS(%)\n",
      "\n",
      "               Input   #####     32   32    3\n",
      "              Conv2D    \\|/  -------------------      3584     2.7%\n",
      "                relu   #####     32   32  128\n",
      "             Dropout    | || -------------------         0     0.0%\n",
      "                       #####     32   32  128\n",
      "        MaxPooling2D   Y max -------------------         0     0.0%\n",
      "                       #####     10   10  128\n",
      "             Flatten   ||||| -------------------         0     0.0%\n",
      "                       #####       12800\n",
      "             Dropout    | || -------------------         0     0.0%\n",
      "                       #####       12800\n",
      "               Dense   XXXXX -------------------    128010    97.3%\n",
      "             softmax   #####          10\n"
     ]
    }
   ],
   "source": [
    "sequential_model_to_ascii_printout(model2)"
   ]
  },
  {
   "cell_type": "code",
   "execution_count": 18,
   "metadata": {},
   "outputs": [],
   "source": [
    "model2.compile(loss='binary_crossentropy',optimizer='adam',metrics=['accuracy'])"
   ]
  },
  {
   "cell_type": "code",
   "execution_count": 19,
   "metadata": {},
   "outputs": [
    {
     "name": "stdout",
     "output_type": "stream",
     "text": [
      "Epoch 1/3\n",
      "50000/50000 [==============================] - 167s 3ms/step - loss: 0.2364 - acc: 0.9119\n",
      "Epoch 2/3\n",
      "50000/50000 [==============================] - 164s 3ms/step - loss: 0.1973 - acc: 0.9239\n",
      "Epoch 3/3\n",
      "50000/50000 [==============================] - 163s 3ms/step - loss: 0.1849 - acc: 0.9287\n"
     ]
    },
    {
     "data": {
      "text/plain": [
       "<keras.callbacks.History at 0x7f8de2ae23c8>"
      ]
     },
     "execution_count": 19,
     "metadata": {},
     "output_type": "execute_result"
    }
   ],
   "source": [
    "model2.fit(xc_train,yc_train,batch_size=128,epochs=3)"
   ]
  },
  {
   "cell_type": "code",
   "execution_count": 20,
   "metadata": {},
   "outputs": [
    {
     "name": "stdout",
     "output_type": "stream",
     "text": [
      "10000/10000 [==============================] - 2s 226us/step\n"
     ]
    }
   ],
   "source": [
    "evaluate2=model2.evaluate(xc_test,yc_test,verbose=1)"
   ]
  },
  {
   "cell_type": "code",
   "execution_count": 21,
   "metadata": {},
   "outputs": [
    {
     "data": {
      "text/plain": [
       "[0.18532187788486482, 0.9282099873542785]"
      ]
     },
     "execution_count": 21,
     "metadata": {},
     "output_type": "execute_result"
    }
   ],
   "source": [
    "evaluate2"
   ]
  },
  {
   "cell_type": "markdown",
   "metadata": {},
   "source": [
    "## MNIST RNN"
   ]
  },
  {
   "cell_type": "code",
   "execution_count": 22,
   "metadata": {},
   "outputs": [],
   "source": [
    "#RNN model 1"
   ]
  },
  {
   "cell_type": "code",
   "execution_count": 23,
   "metadata": {},
   "outputs": [],
   "source": [
    "from keras.models import Sequential\n",
    "from keras.layers import LSTM, Dense, GRU, SimpleRNN\n",
    "from keras.initializers import RandomNormal\n"
   ]
  },
  {
   "cell_type": "code",
   "execution_count": 24,
   "metadata": {},
   "outputs": [],
   "source": [
    "from keras.datasets import mnist\n",
    "(xm_train,ym_train),(xm_test,ym_test)=mnist.load_data()"
   ]
  },
  {
   "cell_type": "code",
   "execution_count": 25,
   "metadata": {},
   "outputs": [],
   "source": [
    "xm_train=xm_train.astype('float32')/255\n",
    "xm_test=xm_test.astype('float32')/255\n",
    "ym_train=np_utils.to_categorical(ym_train,10)\n",
    "ym_test=np_utils.to_categorical(ym_test,10)"
   ]
  },
  {
   "cell_type": "code",
   "execution_count": 26,
   "metadata": {},
   "outputs": [],
   "source": [
    "model_r1=Sequential()"
   ]
  },
  {
   "cell_type": "code",
   "execution_count": 27,
   "metadata": {},
   "outputs": [],
   "source": [
    "model_r1.add(SimpleRNN(20,input_shape=(28,28),return_sequences=True))\n",
    "model_r1.add(Flatten())\n",
    "model_r1.add(Dense(10,activation='softmax'))"
   ]
  },
  {
   "cell_type": "code",
   "execution_count": 28,
   "metadata": {},
   "outputs": [
    {
     "name": "stdout",
     "output_type": "stream",
     "text": [
      "Requirement already satisfied: pydot in /home/kanghsuan1995/anaconda3/lib/python3.6/site-packages (1.4.1)\n",
      "Requirement already satisfied: pyparsing>=2.1.4 in /home/kanghsuan1995/anaconda3/lib/python3.6/site-packages (from pydot) (2.3.1)\n",
      "Note: you may need to restart the kernel to use updated packages.\n"
     ]
    }
   ],
   "source": [
    "pip install pydot"
   ]
  },
  {
   "cell_type": "code",
   "execution_count": 29,
   "metadata": {},
   "outputs": [
    {
     "name": "stdout",
     "output_type": "stream",
     "text": [
      "Requirement already satisfied: GraphViz in /home/kanghsuan1995/anaconda3/lib/python3.6/site-packages (0.10.1)\n",
      "Note: you may need to restart the kernel to use updated packages.\n"
     ]
    }
   ],
   "source": [
    "pip install GraphViz"
   ]
  },
  {
   "cell_type": "code",
   "execution_count": 30,
   "metadata": {},
   "outputs": [],
   "source": [
    "from keras.utils.vis_utils import plot_model"
   ]
  },
  {
   "cell_type": "code",
   "execution_count": 31,
   "metadata": {},
   "outputs": [],
   "source": [
    "model_r1.compile(loss='categorical_crossentropy',optimizer='adam',metrics=['accuracy'])"
   ]
  },
  {
   "cell_type": "code",
   "execution_count": 32,
   "metadata": {},
   "outputs": [
    {
     "name": "stdout",
     "output_type": "stream",
     "text": [
      "Epoch 1/5\n",
      "60000/60000 [==============================] - 2s 31us/step - loss: 0.5056 - acc: 0.8508\n",
      "Epoch 2/5\n",
      "60000/60000 [==============================] - 2s 28us/step - loss: 0.2376 - acc: 0.9299\n",
      "Epoch 3/5\n",
      "60000/60000 [==============================] - 2s 29us/step - loss: 0.1882 - acc: 0.9439\n",
      "Epoch 4/5\n",
      "60000/60000 [==============================] - 2s 28us/step - loss: 0.1592 - acc: 0.9520\n",
      "Epoch 5/5\n",
      "60000/60000 [==============================] - 2s 29us/step - loss: 0.1406 - acc: 0.9589\n"
     ]
    },
    {
     "data": {
      "text/plain": [
       "<keras.callbacks.History at 0x7f8ddc0d27b8>"
      ]
     },
     "execution_count": 32,
     "metadata": {},
     "output_type": "execute_result"
    }
   ],
   "source": [
    "model_r1.fit(xm_train,ym_train,batch_size=128,epochs=5,verbose=1)"
   ]
  },
  {
   "cell_type": "code",
   "execution_count": 33,
   "metadata": {},
   "outputs": [
    {
     "name": "stdout",
     "output_type": "stream",
     "text": [
      "10000/10000 [==============================] - 0s 19us/step\n"
     ]
    }
   ],
   "source": [
    "evaluate_m=model_r1.evaluate(xm_test,ym_test,batch_size=128,verbose=1)"
   ]
  },
  {
   "cell_type": "code",
   "execution_count": 34,
   "metadata": {},
   "outputs": [
    {
     "data": {
      "text/plain": [
       "[0.13635612012147905, 0.959]"
      ]
     },
     "execution_count": 34,
     "metadata": {},
     "output_type": "execute_result"
    }
   ],
   "source": [
    "evaluate_m"
   ]
  },
  {
   "cell_type": "code",
   "execution_count": 35,
   "metadata": {},
   "outputs": [],
   "source": [
    "# RNN Model 2"
   ]
  },
  {
   "cell_type": "code",
   "execution_count": 36,
   "metadata": {},
   "outputs": [],
   "source": [
    "model_m2=Sequential()"
   ]
  },
  {
   "cell_type": "code",
   "execution_count": 37,
   "metadata": {},
   "outputs": [],
   "source": [
    "model_m2.add(LSTM(100,input_shape=(28,28),return_sequences=True))\n",
    "model_m2.add(Dropout(0.5))\n",
    "model_m2.add(LSTM(50,activation='relu'))\n",
    "model_m2.add(Dropout(0.25))\n",
    "model_m2.add(Dense(10,activation='sigmoid'))"
   ]
  },
  {
   "cell_type": "code",
   "execution_count": 38,
   "metadata": {},
   "outputs": [],
   "source": [
    "model_m2.compile(loss='categorical_crossentropy',optimizer='adam',metrics=['accuracy'])"
   ]
  },
  {
   "cell_type": "code",
   "execution_count": 39,
   "metadata": {},
   "outputs": [
    {
     "name": "stdout",
     "output_type": "stream",
     "text": [
      "Epoch 1/3\n",
      "60000/60000 [==============================] - 26s 428us/step - loss: 0.9476 - acc: 0.6752\n",
      "Epoch 2/3\n",
      "60000/60000 [==============================] - 24s 408us/step - loss: 0.2400 - acc: 0.9327\n",
      "Epoch 3/3\n",
      "60000/60000 [==============================] - 25s 410us/step - loss: 0.1515 - acc: 0.9576\n"
     ]
    },
    {
     "data": {
      "text/plain": [
       "<keras.callbacks.History at 0x7f8d6c569748>"
      ]
     },
     "execution_count": 39,
     "metadata": {},
     "output_type": "execute_result"
    }
   ],
   "source": [
    "model_m2.fit(xm_train,ym_train,batch_size=128,epochs=3,verbose=1)"
   ]
  },
  {
   "cell_type": "code",
   "execution_count": 41,
   "metadata": {},
   "outputs": [
    {
     "name": "stdout",
     "output_type": "stream",
     "text": [
      "10000/10000 [==============================] - 1s 108us/step\n"
     ]
    }
   ],
   "source": [
    "evaluate_m2=model_m2.evaluate(xm_test,ym_test,batch_size=128,verbose=1)"
   ]
  },
  {
   "cell_type": "code",
   "execution_count": 42,
   "metadata": {},
   "outputs": [
    {
     "data": {
      "text/plain": [
       "[0.11577733355686068, 0.9684]"
      ]
     },
     "execution_count": 42,
     "metadata": {},
     "output_type": "execute_result"
    }
   ],
   "source": [
    "evaluate_m2"
   ]
  },
  {
   "cell_type": "code",
   "execution_count": null,
   "metadata": {},
   "outputs": [],
   "source": []
  }
 ],
 "metadata": {
  "kernelspec": {
   "display_name": "Python 3",
   "language": "python",
   "name": "python3"
  },
  "language_info": {
   "codemirror_mode": {
    "name": "ipython",
    "version": 3
   },
   "file_extension": ".py",
   "mimetype": "text/x-python",
   "name": "python",
   "nbconvert_exporter": "python",
   "pygments_lexer": "ipython3",
   "version": "3.6.8"
  }
 },
 "nbformat": 4,
 "nbformat_minor": 2
}
